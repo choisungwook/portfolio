{
 "cells": [
  {
   "cell_type": "code",
   "execution_count": 16,
   "id": "5dbaa2b3",
   "metadata": {},
   "outputs": [],
   "source": [
    "import warnings\n",
    "# Suppress specific deprecation warnings from botocore\n",
    "warnings.filterwarnings(\"ignore\", message=\"datetime.datetime.utcnow()\", category=DeprecationWarning)"
   ]
  },
  {
   "cell_type": "markdown",
   "id": "4bcb0383",
   "metadata": {},
   "source": [
    "# Feature Store apply"
   ]
  },
  {
   "cell_type": "code",
   "execution_count": 14,
   "id": "35d2b259",
   "metadata": {},
   "outputs": [
    {
     "name": "stdout",
     "output_type": "stream",
     "text": [
      "ls: feature_repo/registry.db: No such file or directory\n"
     ]
    }
   ],
   "source": [
    "# registry.db 확인\n",
    "!ls feature_repo/registry.db"
   ]
  },
  {
   "cell_type": "code",
   "execution_count": 17,
   "id": "4e0bdbd6",
   "metadata": {},
   "outputs": [
    {
     "name": "stdout",
     "output_type": "stream",
     "text": [
      "No project found in the repository. Using project name credit_scoring_aws defined in feature_store.yaml\n",
      "Applying changes for project credit_scoring_aws\n",
      "/Users/choisungwook/git/portfolio/mlops/feast-aws-credit-scoring-tutorial/.venv/lib/python3.12/site-packages/botocore/auth.py:425: DeprecationWarning: datetime.datetime.utcnow() is deprecated and scheduled for removal in a future version. Use timezone-aware objects to represent datetimes in UTC: datetime.datetime.now(datetime.UTC).\n",
      "  datetime_now = datetime.datetime.utcnow()\n",
      "Deploying infrastructure for \u001b[1m\u001b[32mzipcode_features\u001b[0m\n",
      "Deploying infrastructure for \u001b[1m\u001b[32mcredit_history\u001b[0m\n"
     ]
    }
   ],
   "source": [
    "# init registry and online store\n",
    "!cd feature_repo && feast apply"
   ]
  },
  {
   "cell_type": "code",
   "execution_count": 20,
   "id": "bc8c50b1",
   "metadata": {},
   "outputs": [
    {
     "name": "stdout",
     "output_type": "stream",
     "text": [
      "feature_repo/registry.db\n"
     ]
    }
   ],
   "source": [
    "# registry.db 확인\n",
    "!ls feature_repo/registry.db"
   ]
  },
  {
   "cell_type": "code",
   "execution_count": 19,
   "id": "1ff83bca",
   "metadata": {},
   "outputs": [
    {
     "name": "stdout",
     "output_type": "stream",
     "text": [
      "{\n",
      "    \"TableNames\": [\n",
      "        \"credit_scoring_aws.credit_history\",\n",
      "        \"credit_scoring_aws.zipcode_features\"\n",
      "    ]\n",
      "}\n"
     ]
    }
   ],
   "source": [
    "# Online Feature Store 확인\n",
    "!aws dynamodb list-tables --region ap-northeast-2"
   ]
  },
  {
   "cell_type": "markdown",
   "id": "69191c6c",
   "metadata": {},
   "source": [
    "# Feature Store Registry 확인"
   ]
  },
  {
   "cell_type": "code",
   "execution_count": 5,
   "id": "adff0fa6",
   "metadata": {},
   "outputs": [
    {
     "name": "stdout",
     "output_type": "stream",
     "text": [
      "[info] feast entities list\n",
      "NAME     DESCRIPTION                                                   TYPE\n",
      "zipcode                                                                ValueType.INT64\n",
      "dob_ssn  Date of birth and last four digits of social security number  ValueType.STRING\n",
      "\n",
      "\n",
      "[info] feast feature-views list\n",
      "NAME              ENTITIES     TYPE\n",
      "zipcode_features  {'zipcode'}  FeatureView\n",
      "credit_history    {'dob_ssn'}  FeatureView\n"
     ]
    }
   ],
   "source": [
    "!cd feature_repo && \\\n",
    "  echo \"[info] feast entities list\" && \\\n",
    "  feast entities list && \\\n",
    "  echo \"\\n\" && \\\n",
    "  echo \"[info] feast feature-views list\" && \\\n",
    "  feast feature-views list"
   ]
  },
  {
   "cell_type": "markdown",
   "id": "e0b8ee92",
   "metadata": {},
   "source": [
    "# Training"
   ]
  },
  {
   "cell_type": "code",
   "execution_count": 21,
   "id": "8e818591",
   "metadata": {},
   "outputs": [
    {
     "name": "stdout",
     "output_type": "stream",
     "text": [
      "[info] model file is already exist. Skipping training...\n",
      "[info] Done\n"
     ]
    }
   ],
   "source": [
    "import pandas as pd\n",
    "from credit_model import CreditScoringModel\n",
    "\n",
    "# Get historic loan data\n",
    "loans = pd.read_parquet(\"data/loan_table.parquet\")\n",
    "\n",
    "# Create model\n",
    "model = CreditScoringModel()\n",
    "\n",
    "# Train model (using Redshift for zipcode and credit history features)\n",
    "if not model.is_model_trained():\n",
    "    print(\"[info] Training model with historic loan data...\")\n",
    "    print(\"[info] Train successful.\")\n",
    "    model.train(loans)\n",
    "else:\n",
    "    print(\"[info] model file is already exist. Skipping training...\")\n",
    "\n",
    "print(\"[info] Done\")"
   ]
  },
  {
   "cell_type": "markdown",
   "id": "463b244c",
   "metadata": {},
   "source": [
    "# Predict"
   ]
  },
  {
   "cell_type": "code",
   "execution_count": 22,
   "id": "ec12d35c",
   "metadata": {},
   "outputs": [
    {
     "name": "stdout",
     "output_type": "stream",
     "text": [
      "Loan rejected!\n"
     ]
    }
   ],
   "source": [
    "import sys\n",
    "from credit_model import CreditScoringModel\n",
    "\n",
    "\n",
    "model = CreditScoringModel()\n",
    "if not model.is_model_trained():\n",
    "    sys.exit(\"Model is not trained. Please run the training script first.\")\n",
    "\n",
    "# Make online prediction (using DynamoDB for retrieving online features)\n",
    "loan_request = {\n",
    "    \"zipcode\": [76104],\n",
    "    \"dob_ssn\": [\"19630621_4278\"],\n",
    "    \"person_age\": [133],\n",
    "    \"person_income\": [59000],\n",
    "    \"person_home_ownership\": [\"RENT\"],\n",
    "    \"person_emp_length\": [123.0],\n",
    "    \"loan_intent\": [\"PERSONAL\"],\n",
    "    \"loan_amnt\": [35000],\n",
    "    \"loan_int_rate\": [16.02],\n",
    "}\n",
    "\n",
    "result = model.predict(loan_request)\n",
    "\n",
    "if result == 0:\n",
    "    print(\"Loan approved!\")\n",
    "elif result == 1:\n",
    "    print(\"Loan rejected!\")\n"
   ]
  }
 ],
 "metadata": {
  "kernelspec": {
   "display_name": ".venv",
   "language": "python",
   "name": "python3"
  },
  "language_info": {
   "codemirror_mode": {
    "name": "ipython",
    "version": 3
   },
   "file_extension": ".py",
   "mimetype": "text/x-python",
   "name": "python",
   "nbconvert_exporter": "python",
   "pygments_lexer": "ipython3",
   "version": "3.12.10"
  }
 },
 "nbformat": 4,
 "nbformat_minor": 5
}
